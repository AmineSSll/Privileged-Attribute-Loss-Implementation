{
 "cells": [
  {
   "cell_type": "markdown",
   "id": "b1d20196",
   "metadata": {},
   "source": [
    "# Testing model"
   ]
  },
  {
   "cell_type": "markdown",
   "id": "813c3cd1",
   "metadata": {},
   "source": [
    "Adding parallel directory path and importing modules"
   ]
  },
  {
   "cell_type": "code",
   "execution_count": 1,
   "id": "374d3223",
   "metadata": {},
   "outputs": [],
   "source": [
    "import sys\n",
    "sys.path.append('../')\n",
    "sys.path.append('../src')\n",
    "from src.model import *"
   ]
  },
  {
   "cell_type": "markdown",
   "id": "30b25918",
   "metadata": {},
   "source": [
    "Testing PAL_model call"
   ]
  },
  {
   "cell_type": "code",
   "execution_count": 5,
   "id": "e8d87da6",
   "metadata": {},
   "outputs": [],
   "source": [
    "inputs = tf.Tensor\n",
    "\n",
    "m = PAL_model(4)"
   ]
  },
  {
   "cell_type": "code",
   "execution_count": 4,
   "id": "f6005b06",
   "metadata": {},
   "outputs": [
    {
     "ename": "AttributeError",
     "evalue": "'NoneType' object has no attribute 'model_summary'",
     "output_type": "error",
     "traceback": [
      "\u001b[1;31m---------------------------------------------------------------------------\u001b[0m",
      "\u001b[1;31mAttributeError\u001b[0m                            Traceback (most recent call last)",
      "\u001b[1;32m~\\AppData\\Local\\Temp\\ipykernel_11452\\1369129737.py\u001b[0m in \u001b[0;36m<module>\u001b[1;34m\u001b[0m\n\u001b[1;32m----> 1\u001b[1;33m \u001b[0mm\u001b[0m\u001b[1;33m.\u001b[0m\u001b[0mbackbone\u001b[0m\u001b[1;33m.\u001b[0m\u001b[0mmodel_summary\u001b[0m\u001b[1;33m(\u001b[0m\u001b[1;33m)\u001b[0m\u001b[1;33m\u001b[0m\u001b[1;33m\u001b[0m\u001b[0m\n\u001b[0m",
      "\u001b[1;31mAttributeError\u001b[0m: 'NoneType' object has no attribute 'model_summary'"
     ]
    }
   ],
   "source": [
    "m.backbone.model_summary()"
   ]
  },
  {
   "cell_type": "code",
   "execution_count": null,
   "id": "2e7305c5",
   "metadata": {},
   "outputs": [],
   "source": []
  },
  {
   "cell_type": "code",
   "execution_count": null,
   "id": "ba9e6e2f",
   "metadata": {},
   "outputs": [],
   "source": []
  },
  {
   "cell_type": "code",
   "execution_count": null,
   "id": "2d780921",
   "metadata": {},
   "outputs": [],
   "source": []
  }
 ],
 "metadata": {
  "kernelspec": {
   "display_name": "Python 3 (ipykernel)",
   "language": "python",
   "name": "python3"
  },
  "language_info": {
   "codemirror_mode": {
    "name": "ipython",
    "version": 3
   },
   "file_extension": ".py",
   "mimetype": "text/x-python",
   "name": "python",
   "nbconvert_exporter": "python",
   "pygments_lexer": "ipython3",
   "version": "3.10.8"
  }
 },
 "nbformat": 4,
 "nbformat_minor": 5
}
