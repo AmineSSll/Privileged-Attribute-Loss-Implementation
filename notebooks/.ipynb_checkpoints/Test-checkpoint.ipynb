{
 "cells": [
  {
   "cell_type": "markdown",
   "id": "8d966641",
   "metadata": {},
   "source": [
    "# Testing model"
   ]
  },
  {
   "cell_type": "code",
   "execution_count": 3,
   "id": "8d2634c3",
   "metadata": {},
   "outputs": [],
   "source": [
    "import sys\n",
    "sys.path.append('../src')\n",
    "from src.model import *"
   ]
  },
  {
   "cell_type": "code",
   "execution_count": 4,
   "id": "6c355e04",
   "metadata": {},
   "outputs": [],
   "source": [
    "\n",
    "\n",
    "m = PAL_model()\n"
   ]
  },
  {
   "cell_type": "code",
   "execution_count": null,
   "id": "de805117",
   "metadata": {},
   "outputs": [],
   "source": []
  }
 ],
 "metadata": {
  "kernelspec": {
   "display_name": "Python 3 (ipykernel)",
   "language": "python",
   "name": "python3"
  },
  "language_info": {
   "codemirror_mode": {
    "name": "ipython",
    "version": 3
   },
   "file_extension": ".py",
   "mimetype": "text/x-python",
   "name": "python",
   "nbconvert_exporter": "python",
   "pygments_lexer": "ipython3",
   "version": "3.10.8"
  }
 },
 "nbformat": 4,
 "nbformat_minor": 5
}
